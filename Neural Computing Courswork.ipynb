{
 "cells": [
  {
   "cell_type": "code",
   "execution_count": 1,
   "metadata": {
    "ExecuteTime": {
     "start_time": "2023-04-14T04:43:46.961801Z",
     "end_time": "2023-04-14T04:43:48.046309Z"
    }
   },
   "outputs": [],
   "source": [
    "import pandas as pd\n",
    "import torch\n",
    "from torch.utils.data import DataLoader, Dataset\n",
    "import numpy as np\n",
    "from sklearn.preprocessing import LabelEncoder, StandardScaler\n",
    "from sklearn.model_selection import train_test_split\n",
    "from sklearn.svm import SVC\n",
    "from sklearn.metrics import accuracy_score\n",
    "from collections import Counter\n",
    "from sklearn.metrics import f1_score\n",
    "import seaborn as sns\n",
    "from sklearn.metrics import confusion_matrix\n",
    "from sklearn.metrics import classification_report\n",
    "from sklearn.metrics import roc_curve, auc\n",
    "import matplotlib.pyplot as plt\n",
    "from sklearn.metrics import precision_score"
   ]
  },
  {
   "cell_type": "code",
   "execution_count": 2,
   "metadata": {
    "ExecuteTime": {
     "start_time": "2023-04-14T04:43:48.046717Z",
     "end_time": "2023-04-14T04:43:48.073933Z"
    }
   },
   "outputs": [],
   "source": [
    "# Load the breast cancer dataset into a Pandas dataframe\n",
    "df = pd.read_csv('breast-cancer.csv')\n",
    "\n",
    "# Extract the features and target\n",
    "X = df.drop(['id', 'diagnosis'], axis=1).values\n",
    "y = LabelEncoder().fit_transform(df['diagnosis'].values)\n",
    "\n",
    "# Split the dataset into training and testing sets (80/20)\n",
    "X_train, X_test, y_train, y_test = train_test_split(X, y, test_size=0.2, random_state=42)\n",
    "\n",
    "# Scale the features\n",
    "scaler = StandardScaler()\n",
    "X_train = scaler.fit_transform(X_train)\n",
    "X_test = scaler.transform(X_test)\n",
    "\n",
    "# Custom PyTorch dataset\n",
    "class CancerDataset(Dataset):\n",
    "    def __init__(self, X, y):\n",
    "        self.X = torch.FloatTensor(X)\n",
    "        self.y = torch.LongTensor(y)\n",
    "\n",
    "    def __len__(self):\n",
    "        return len(self.X)\n",
    "\n",
    "    def __getitem__(self, idx):\n",
    "        return self.X[idx], self.y[idx]\n",
    "\n",
    "# PyTorch dataloaders for the training and testing sets created\n",
    "train_dataset = CancerDataset(X_train, y_train)\n",
    "test_dataset = CancerDataset(X_test, y_test)\n",
    "train_dataloader = DataLoader(train_dataset, batch_size=32, shuffle=True)\n",
    "test_dataloader = DataLoader(test_dataset, batch_size=32, shuffle=False)"
   ]
  },
  {
   "cell_type": "code",
   "execution_count": 3,
   "outputs": [],
   "source": [
    "c = Counter(y_train)"
   ],
   "metadata": {
    "collapsed": false,
    "ExecuteTime": {
     "start_time": "2023-04-14T04:43:48.074386Z",
     "end_time": "2023-04-14T04:43:48.079020Z"
    }
   }
  },
  {
   "cell_type": "code",
   "execution_count": 4,
   "outputs": [
    {
     "name": "stdout",
     "output_type": "stream",
     "text": [
      "Counter({0: 286, 1: 169})\n"
     ]
    }
   ],
   "source": [
    "print(c)"
   ],
   "metadata": {
    "collapsed": false,
    "ExecuteTime": {
     "start_time": "2023-04-14T04:43:48.077311Z",
     "end_time": "2023-04-14T04:43:48.082516Z"
    }
   }
  },
  {
   "cell_type": "code",
   "execution_count": 5,
   "outputs": [
    {
     "name": "stdout",
     "output_type": "stream",
     "text": [
      "Summary Statistics for the Dataset:\n"
     ]
    },
    {
     "data": {
      "text/plain": "                 id  radius_mean  texture_mean  perimeter_mean    area_mean  \\\ncount  5.690000e+02   569.000000    569.000000      569.000000   569.000000   \nmean   3.037183e+07    14.127292     19.289649       91.969033   654.889104   \nstd    1.250206e+08     3.524049      4.301036       24.298981   351.914129   \nmin    8.670000e+03     6.981000      9.710000       43.790000   143.500000   \n25%    8.692180e+05    11.700000     16.170000       75.170000   420.300000   \n50%    9.060240e+05    13.370000     18.840000       86.240000   551.100000   \n75%    8.813129e+06    15.780000     21.800000      104.100000   782.700000   \nmax    9.113205e+08    28.110000     39.280000      188.500000  2501.000000   \n\n       smoothness_mean  compactness_mean  concavity_mean  concave points_mean  \\\ncount       569.000000        569.000000      569.000000           569.000000   \nmean          0.096360          0.104341        0.088799             0.048919   \nstd           0.014064          0.052813        0.079720             0.038803   \nmin           0.052630          0.019380        0.000000             0.000000   \n25%           0.086370          0.064920        0.029560             0.020310   \n50%           0.095870          0.092630        0.061540             0.033500   \n75%           0.105300          0.130400        0.130700             0.074000   \nmax           0.163400          0.345400        0.426800             0.201200   \n\n       symmetry_mean  ...  radius_worst  texture_worst  perimeter_worst  \\\ncount     569.000000  ...    569.000000     569.000000       569.000000   \nmean        0.181162  ...     16.269190      25.677223       107.261213   \nstd         0.027414  ...      4.833242       6.146258        33.602542   \nmin         0.106000  ...      7.930000      12.020000        50.410000   \n25%         0.161900  ...     13.010000      21.080000        84.110000   \n50%         0.179200  ...     14.970000      25.410000        97.660000   \n75%         0.195700  ...     18.790000      29.720000       125.400000   \nmax         0.304000  ...     36.040000      49.540000       251.200000   \n\n        area_worst  smoothness_worst  compactness_worst  concavity_worst  \\\ncount   569.000000        569.000000         569.000000       569.000000   \nmean    880.583128          0.132369           0.254265         0.272188   \nstd     569.356993          0.022832           0.157336         0.208624   \nmin     185.200000          0.071170           0.027290         0.000000   \n25%     515.300000          0.116600           0.147200         0.114500   \n50%     686.500000          0.131300           0.211900         0.226700   \n75%    1084.000000          0.146000           0.339100         0.382900   \nmax    4254.000000          0.222600           1.058000         1.252000   \n\n       concave points_worst  symmetry_worst  fractal_dimension_worst  \ncount            569.000000      569.000000               569.000000  \nmean               0.114606        0.290076                 0.083946  \nstd                0.065732        0.061867                 0.018061  \nmin                0.000000        0.156500                 0.055040  \n25%                0.064930        0.250400                 0.071460  \n50%                0.099930        0.282200                 0.080040  \n75%                0.161400        0.317900                 0.092080  \nmax                0.291000        0.663800                 0.207500  \n\n[8 rows x 31 columns]",
      "text/html": "<div>\n<style scoped>\n    .dataframe tbody tr th:only-of-type {\n        vertical-align: middle;\n    }\n\n    .dataframe tbody tr th {\n        vertical-align: top;\n    }\n\n    .dataframe thead th {\n        text-align: right;\n    }\n</style>\n<table border=\"1\" class=\"dataframe\">\n  <thead>\n    <tr style=\"text-align: right;\">\n      <th></th>\n      <th>id</th>\n      <th>radius_mean</th>\n      <th>texture_mean</th>\n      <th>perimeter_mean</th>\n      <th>area_mean</th>\n      <th>smoothness_mean</th>\n      <th>compactness_mean</th>\n      <th>concavity_mean</th>\n      <th>concave points_mean</th>\n      <th>symmetry_mean</th>\n      <th>...</th>\n      <th>radius_worst</th>\n      <th>texture_worst</th>\n      <th>perimeter_worst</th>\n      <th>area_worst</th>\n      <th>smoothness_worst</th>\n      <th>compactness_worst</th>\n      <th>concavity_worst</th>\n      <th>concave points_worst</th>\n      <th>symmetry_worst</th>\n      <th>fractal_dimension_worst</th>\n    </tr>\n  </thead>\n  <tbody>\n    <tr>\n      <th>count</th>\n      <td>5.690000e+02</td>\n      <td>569.000000</td>\n      <td>569.000000</td>\n      <td>569.000000</td>\n      <td>569.000000</td>\n      <td>569.000000</td>\n      <td>569.000000</td>\n      <td>569.000000</td>\n      <td>569.000000</td>\n      <td>569.000000</td>\n      <td>...</td>\n      <td>569.000000</td>\n      <td>569.000000</td>\n      <td>569.000000</td>\n      <td>569.000000</td>\n      <td>569.000000</td>\n      <td>569.000000</td>\n      <td>569.000000</td>\n      <td>569.000000</td>\n      <td>569.000000</td>\n      <td>569.000000</td>\n    </tr>\n    <tr>\n      <th>mean</th>\n      <td>3.037183e+07</td>\n      <td>14.127292</td>\n      <td>19.289649</td>\n      <td>91.969033</td>\n      <td>654.889104</td>\n      <td>0.096360</td>\n      <td>0.104341</td>\n      <td>0.088799</td>\n      <td>0.048919</td>\n      <td>0.181162</td>\n      <td>...</td>\n      <td>16.269190</td>\n      <td>25.677223</td>\n      <td>107.261213</td>\n      <td>880.583128</td>\n      <td>0.132369</td>\n      <td>0.254265</td>\n      <td>0.272188</td>\n      <td>0.114606</td>\n      <td>0.290076</td>\n      <td>0.083946</td>\n    </tr>\n    <tr>\n      <th>std</th>\n      <td>1.250206e+08</td>\n      <td>3.524049</td>\n      <td>4.301036</td>\n      <td>24.298981</td>\n      <td>351.914129</td>\n      <td>0.014064</td>\n      <td>0.052813</td>\n      <td>0.079720</td>\n      <td>0.038803</td>\n      <td>0.027414</td>\n      <td>...</td>\n      <td>4.833242</td>\n      <td>6.146258</td>\n      <td>33.602542</td>\n      <td>569.356993</td>\n      <td>0.022832</td>\n      <td>0.157336</td>\n      <td>0.208624</td>\n      <td>0.065732</td>\n      <td>0.061867</td>\n      <td>0.018061</td>\n    </tr>\n    <tr>\n      <th>min</th>\n      <td>8.670000e+03</td>\n      <td>6.981000</td>\n      <td>9.710000</td>\n      <td>43.790000</td>\n      <td>143.500000</td>\n      <td>0.052630</td>\n      <td>0.019380</td>\n      <td>0.000000</td>\n      <td>0.000000</td>\n      <td>0.106000</td>\n      <td>...</td>\n      <td>7.930000</td>\n      <td>12.020000</td>\n      <td>50.410000</td>\n      <td>185.200000</td>\n      <td>0.071170</td>\n      <td>0.027290</td>\n      <td>0.000000</td>\n      <td>0.000000</td>\n      <td>0.156500</td>\n      <td>0.055040</td>\n    </tr>\n    <tr>\n      <th>25%</th>\n      <td>8.692180e+05</td>\n      <td>11.700000</td>\n      <td>16.170000</td>\n      <td>75.170000</td>\n      <td>420.300000</td>\n      <td>0.086370</td>\n      <td>0.064920</td>\n      <td>0.029560</td>\n      <td>0.020310</td>\n      <td>0.161900</td>\n      <td>...</td>\n      <td>13.010000</td>\n      <td>21.080000</td>\n      <td>84.110000</td>\n      <td>515.300000</td>\n      <td>0.116600</td>\n      <td>0.147200</td>\n      <td>0.114500</td>\n      <td>0.064930</td>\n      <td>0.250400</td>\n      <td>0.071460</td>\n    </tr>\n    <tr>\n      <th>50%</th>\n      <td>9.060240e+05</td>\n      <td>13.370000</td>\n      <td>18.840000</td>\n      <td>86.240000</td>\n      <td>551.100000</td>\n      <td>0.095870</td>\n      <td>0.092630</td>\n      <td>0.061540</td>\n      <td>0.033500</td>\n      <td>0.179200</td>\n      <td>...</td>\n      <td>14.970000</td>\n      <td>25.410000</td>\n      <td>97.660000</td>\n      <td>686.500000</td>\n      <td>0.131300</td>\n      <td>0.211900</td>\n      <td>0.226700</td>\n      <td>0.099930</td>\n      <td>0.282200</td>\n      <td>0.080040</td>\n    </tr>\n    <tr>\n      <th>75%</th>\n      <td>8.813129e+06</td>\n      <td>15.780000</td>\n      <td>21.800000</td>\n      <td>104.100000</td>\n      <td>782.700000</td>\n      <td>0.105300</td>\n      <td>0.130400</td>\n      <td>0.130700</td>\n      <td>0.074000</td>\n      <td>0.195700</td>\n      <td>...</td>\n      <td>18.790000</td>\n      <td>29.720000</td>\n      <td>125.400000</td>\n      <td>1084.000000</td>\n      <td>0.146000</td>\n      <td>0.339100</td>\n      <td>0.382900</td>\n      <td>0.161400</td>\n      <td>0.317900</td>\n      <td>0.092080</td>\n    </tr>\n    <tr>\n      <th>max</th>\n      <td>9.113205e+08</td>\n      <td>28.110000</td>\n      <td>39.280000</td>\n      <td>188.500000</td>\n      <td>2501.000000</td>\n      <td>0.163400</td>\n      <td>0.345400</td>\n      <td>0.426800</td>\n      <td>0.201200</td>\n      <td>0.304000</td>\n      <td>...</td>\n      <td>36.040000</td>\n      <td>49.540000</td>\n      <td>251.200000</td>\n      <td>4254.000000</td>\n      <td>0.222600</td>\n      <td>1.058000</td>\n      <td>1.252000</td>\n      <td>0.291000</td>\n      <td>0.663800</td>\n      <td>0.207500</td>\n    </tr>\n  </tbody>\n</table>\n<p>8 rows × 31 columns</p>\n</div>"
     },
     "metadata": {},
     "output_type": "display_data"
    }
   ],
   "source": [
    "#summary statistics\n",
    "summary_stats = df.describe()\n",
    "\n",
    "# Print summary statistics\n",
    "print(\"Summary Statistics for the Dataset:\")\n",
    "display(summary_stats)\n"
   ],
   "metadata": {
    "collapsed": false,
    "ExecuteTime": {
     "start_time": "2023-04-14T04:43:48.083068Z",
     "end_time": "2023-04-14T04:43:48.129698Z"
    }
   }
  },
  {
   "cell_type": "code",
   "execution_count": 24,
   "metadata": {
    "ExecuteTime": {
     "start_time": "2023-04-14T04:44:25.317736Z",
     "end_time": "2023-04-14T04:44:26.220784Z"
    }
   },
   "outputs": [
    {
     "name": "stdout",
     "output_type": "stream",
     "text": [
      "Epoch [1/100], Step [10/15], Loss: 0.7999\n",
      "Epoch [2/100], Step [10/15], Loss: 0.7972\n",
      "Epoch [3/100], Step [10/15], Loss: 0.7980\n",
      "Epoch [4/100], Step [10/15], Loss: 0.8120\n",
      "Epoch [5/100], Step [10/15], Loss: 0.8068\n",
      "Epoch [6/100], Step [10/15], Loss: 0.7434\n",
      "Epoch [7/100], Step [10/15], Loss: 0.7625\n",
      "Epoch [8/100], Step [10/15], Loss: 0.8892\n",
      "Epoch [9/100], Step [10/15], Loss: 0.7959\n",
      "Epoch [10/100], Step [10/15], Loss: 0.7920\n",
      "Epoch [11/100], Step [10/15], Loss: 0.8607\n",
      "Epoch [12/100], Step [10/15], Loss: 0.7977\n",
      "Epoch [13/100], Step [10/15], Loss: 0.7945\n",
      "Epoch [14/100], Step [10/15], Loss: 0.7598\n",
      "Epoch [15/100], Step [10/15], Loss: 0.7466\n",
      "Epoch [16/100], Step [10/15], Loss: 0.8194\n",
      "Epoch [17/100], Step [10/15], Loss: 0.7506\n",
      "Epoch [18/100], Step [10/15], Loss: 0.7803\n",
      "Epoch [19/100], Step [10/15], Loss: 0.7471\n",
      "Epoch [20/100], Step [10/15], Loss: 0.7860\n",
      "Epoch [21/100], Step [10/15], Loss: 0.8238\n",
      "Epoch [22/100], Step [10/15], Loss: 0.8310\n",
      "Epoch [23/100], Step [10/15], Loss: 0.8305\n",
      "Epoch [24/100], Step [10/15], Loss: 0.7764\n",
      "Epoch [25/100], Step [10/15], Loss: 0.8198\n",
      "Epoch [26/100], Step [10/15], Loss: 0.7766\n",
      "Epoch [27/100], Step [10/15], Loss: 0.7505\n",
      "Epoch [28/100], Step [10/15], Loss: 0.8184\n",
      "Epoch [29/100], Step [10/15], Loss: 0.7698\n",
      "Epoch [30/100], Step [10/15], Loss: 0.7532\n",
      "Epoch [31/100], Step [10/15], Loss: 0.7681\n",
      "Epoch [32/100], Step [10/15], Loss: 0.7674\n",
      "Epoch [33/100], Step [10/15], Loss: 0.7517\n",
      "Epoch [34/100], Step [10/15], Loss: 0.7659\n",
      "Epoch [35/100], Step [10/15], Loss: 0.7630\n",
      "Epoch [36/100], Step [10/15], Loss: 0.7879\n",
      "Epoch [37/100], Step [10/15], Loss: 0.8257\n",
      "Epoch [38/100], Step [10/15], Loss: 0.7782\n",
      "Epoch [39/100], Step [10/15], Loss: 0.7982\n",
      "Epoch [40/100], Step [10/15], Loss: 0.8310\n",
      "Epoch [41/100], Step [10/15], Loss: 0.7826\n",
      "Epoch [42/100], Step [10/15], Loss: 0.8546\n",
      "Epoch [43/100], Step [10/15], Loss: 0.8518\n",
      "Epoch [44/100], Step [10/15], Loss: 0.8520\n",
      "Epoch [45/100], Step [10/15], Loss: 0.7757\n",
      "Epoch [46/100], Step [10/15], Loss: 0.7689\n",
      "Epoch [47/100], Step [10/15], Loss: 0.8010\n",
      "Epoch [48/100], Step [10/15], Loss: 0.8986\n",
      "Epoch [49/100], Step [10/15], Loss: 0.8729\n",
      "Epoch [50/100], Step [10/15], Loss: 0.7439\n",
      "Epoch [51/100], Step [10/15], Loss: 0.8015\n",
      "Epoch [52/100], Step [10/15], Loss: 0.8051\n",
      "Epoch [53/100], Step [10/15], Loss: 0.7624\n",
      "Epoch [54/100], Step [10/15], Loss: 0.8795\n",
      "Epoch [55/100], Step [10/15], Loss: 0.7822\n",
      "Epoch [56/100], Step [10/15], Loss: 0.7842\n",
      "Epoch [57/100], Step [10/15], Loss: 0.8021\n",
      "Epoch [58/100], Step [10/15], Loss: 0.7804\n",
      "Epoch [59/100], Step [10/15], Loss: 0.7952\n",
      "Epoch [60/100], Step [10/15], Loss: 0.8743\n",
      "Epoch [61/100], Step [10/15], Loss: 0.7310\n",
      "Epoch [62/100], Step [10/15], Loss: 0.7679\n",
      "Epoch [63/100], Step [10/15], Loss: 0.7259\n",
      "Epoch [64/100], Step [10/15], Loss: 0.7697\n",
      "Epoch [65/100], Step [10/15], Loss: 0.7789\n",
      "Epoch [66/100], Step [10/15], Loss: 0.7582\n",
      "Epoch [67/100], Step [10/15], Loss: 0.7844\n",
      "Epoch [68/100], Step [10/15], Loss: 0.7487\n",
      "Epoch [69/100], Step [10/15], Loss: 0.7453\n",
      "Epoch [70/100], Step [10/15], Loss: 0.8047\n",
      "Epoch [71/100], Step [10/15], Loss: 0.8051\n",
      "Epoch [72/100], Step [10/15], Loss: 0.7469\n",
      "Epoch [73/100], Step [10/15], Loss: 0.7577\n",
      "Epoch [74/100], Step [10/15], Loss: 0.8062\n",
      "Epoch [75/100], Step [10/15], Loss: 0.7586\n",
      "Epoch [76/100], Step [10/15], Loss: 0.9381\n",
      "Epoch [77/100], Step [10/15], Loss: 0.8149\n",
      "Epoch [78/100], Step [10/15], Loss: 0.7993\n",
      "Epoch [79/100], Step [10/15], Loss: 0.7452\n",
      "Epoch [80/100], Step [10/15], Loss: 0.7186\n",
      "Epoch [81/100], Step [10/15], Loss: 0.7708\n",
      "Epoch [82/100], Step [10/15], Loss: 0.7584\n",
      "Epoch [83/100], Step [10/15], Loss: 0.8362\n",
      "Epoch [84/100], Step [10/15], Loss: 0.8275\n",
      "Epoch [85/100], Step [10/15], Loss: 0.8452\n",
      "Epoch [86/100], Step [10/15], Loss: 0.7286\n",
      "Epoch [87/100], Step [10/15], Loss: 0.8344\n",
      "Epoch [88/100], Step [10/15], Loss: 0.7379\n",
      "Epoch [89/100], Step [10/15], Loss: 0.7838\n",
      "Epoch [90/100], Step [10/15], Loss: 0.7966\n",
      "Epoch [91/100], Step [10/15], Loss: 0.8570\n",
      "Epoch [92/100], Step [10/15], Loss: 0.7751\n",
      "Epoch [93/100], Step [10/15], Loss: 0.7844\n",
      "Epoch [94/100], Step [10/15], Loss: 0.8402\n",
      "Epoch [95/100], Step [10/15], Loss: 0.7543\n",
      "Epoch [96/100], Step [10/15], Loss: 0.7728\n",
      "Epoch [97/100], Step [10/15], Loss: 0.7945\n",
      "Epoch [98/100], Step [10/15], Loss: 0.9056\n",
      "Epoch [99/100], Step [10/15], Loss: 0.7470\n",
      "Epoch [100/100], Step [10/15], Loss: 0.8491\n",
      "Accuracy on test set: 26.32%\n"
     ]
    }
   ],
   "source": [
    "class MLP_one_layer(torch.nn.Module):\n",
    "    def __init__(self, input_dim):\n",
    "        super().__init__()\n",
    "        self.fc1 = torch.nn.Linear(input_dim, 64)\n",
    "        self.fc2 = torch.nn.Linear(64, 2)\n",
    "        self.relu = torch.nn.ReLU()\n",
    "        self.dropout = torch.nn.Dropout(0.5)\n",
    "\n",
    "    def forward(self, x):\n",
    "        x = self.fc1(x)\n",
    "        x = self.relu(x)\n",
    "        x = self.dropout(x)\n",
    "        x = self.fc2(x)\n",
    "        return x\n",
    "\n",
    "\n",
    "# Instantiate the model and define the loss and optimizer\n",
    "model_one_layer = MLP_one_layer(input_dim=X.shape[1])\n",
    "criterion = torch.nn.CrossEntropyLoss()\n",
    "optimizer = torch.optim.Adam(model_one_layer.parameters(), lr=0)\n",
    "\n",
    "# Train the model\n",
    "num_epochs = 100\n",
    "for epoch in range(num_epochs):\n",
    "    for i, (X_batch, y_batch) in enumerate(train_dataloader):\n",
    "        optimizer.zero_grad()\n",
    "        y_pred = model_one_layer(X_batch)\n",
    "        loss = criterion(y_pred, y_batch)\n",
    "        loss.backward()\n",
    "        optimizer.step()\n",
    "\n",
    "        if (i+1) % 10 == 0:\n",
    "            print(f'Epoch [{epoch+1}/{num_epochs}], Step [{i+1}/{len(train_dataloader)}], Loss: {loss.item():.4f}')\n",
    "\n",
    "# Evaluate the model\n",
    "model_one_layer.eval()\n",
    "with torch.no_grad():\n",
    "    correct = 0\n",
    "    total = 0\n",
    "    for X_batch, y_batch in test_dataloader:\n",
    "        y_pred = model_one_layer(X_batch)\n",
    "        _, predicted = torch.max(y_pred.data, 1)\n",
    "        total += y_batch.size(0)\n",
    "        correct += (predicted == y_batch).sum().item()\n",
    "    print(f\"Accuracy on test set: {(100 * correct / total):.2f}%\")"
   ]
  },
  {
   "cell_type": "code",
   "execution_count": 7,
   "metadata": {
    "ExecuteTime": {
     "start_time": "2023-04-14T04:43:49.271865Z",
     "end_time": "2023-04-14T04:43:50.691350Z"
    }
   },
   "outputs": [
    {
     "name": "stdout",
     "output_type": "stream",
     "text": [
      "Epoch [1/100], Step [10/15], Loss: 0.6206\n",
      "Epoch [2/100], Step [10/15], Loss: 0.4529\n",
      "Epoch [3/100], Step [10/15], Loss: 0.3732\n",
      "Epoch [4/100], Step [10/15], Loss: 0.2750\n",
      "Epoch [5/100], Step [10/15], Loss: 0.2628\n",
      "Epoch [6/100], Step [10/15], Loss: 0.1243\n",
      "Epoch [7/100], Step [10/15], Loss: 0.1728\n",
      "Epoch [8/100], Step [10/15], Loss: 0.0924\n",
      "Epoch [9/100], Step [10/15], Loss: 0.0742\n",
      "Epoch [10/100], Step [10/15], Loss: 0.1893\n",
      "Epoch [11/100], Step [10/15], Loss: 0.1011\n",
      "Epoch [12/100], Step [10/15], Loss: 0.0283\n",
      "Epoch [13/100], Step [10/15], Loss: 0.0200\n",
      "Epoch [14/100], Step [10/15], Loss: 0.0971\n",
      "Epoch [15/100], Step [10/15], Loss: 0.0470\n",
      "Epoch [16/100], Step [10/15], Loss: 0.0307\n",
      "Epoch [17/100], Step [10/15], Loss: 0.0065\n",
      "Epoch [18/100], Step [10/15], Loss: 0.0123\n",
      "Epoch [19/100], Step [10/15], Loss: 0.0659\n",
      "Epoch [20/100], Step [10/15], Loss: 0.0256\n",
      "Epoch [21/100], Step [10/15], Loss: 0.0167\n",
      "Epoch [22/100], Step [10/15], Loss: 0.0207\n",
      "Epoch [23/100], Step [10/15], Loss: 0.1134\n",
      "Epoch [24/100], Step [10/15], Loss: 0.1613\n",
      "Epoch [25/100], Step [10/15], Loss: 0.0221\n",
      "Epoch [26/100], Step [10/15], Loss: 0.0624\n",
      "Epoch [27/100], Step [10/15], Loss: 0.0231\n",
      "Epoch [28/100], Step [10/15], Loss: 0.0079\n",
      "Epoch [29/100], Step [10/15], Loss: 0.0577\n",
      "Epoch [30/100], Step [10/15], Loss: 0.0437\n",
      "Epoch [31/100], Step [10/15], Loss: 0.0738\n",
      "Epoch [32/100], Step [10/15], Loss: 0.1481\n",
      "Epoch [33/100], Step [10/15], Loss: 0.0625\n",
      "Epoch [34/100], Step [10/15], Loss: 0.0194\n",
      "Epoch [35/100], Step [10/15], Loss: 0.1334\n",
      "Epoch [36/100], Step [10/15], Loss: 0.0196\n",
      "Epoch [37/100], Step [10/15], Loss: 0.0085\n",
      "Epoch [38/100], Step [10/15], Loss: 0.0045\n",
      "Epoch [39/100], Step [10/15], Loss: 0.0047\n",
      "Epoch [40/100], Step [10/15], Loss: 0.0284\n",
      "Epoch [41/100], Step [10/15], Loss: 0.0076\n",
      "Epoch [42/100], Step [10/15], Loss: 0.0315\n",
      "Epoch [43/100], Step [10/15], Loss: 0.0206\n",
      "Epoch [44/100], Step [10/15], Loss: 0.0174\n",
      "Epoch [45/100], Step [10/15], Loss: 0.0148\n",
      "Epoch [46/100], Step [10/15], Loss: 0.0167\n",
      "Epoch [47/100], Step [10/15], Loss: 0.0186\n",
      "Epoch [48/100], Step [10/15], Loss: 0.0030\n",
      "Epoch [49/100], Step [10/15], Loss: 0.0295\n",
      "Epoch [50/100], Step [10/15], Loss: 0.0028\n",
      "Epoch [51/100], Step [10/15], Loss: 0.0828\n",
      "Epoch [52/100], Step [10/15], Loss: 0.1336\n",
      "Epoch [53/100], Step [10/15], Loss: 0.0428\n",
      "Epoch [54/100], Step [10/15], Loss: 0.0050\n",
      "Epoch [55/100], Step [10/15], Loss: 0.0614\n",
      "Epoch [56/100], Step [10/15], Loss: 0.0203\n",
      "Epoch [57/100], Step [10/15], Loss: 0.0139\n",
      "Epoch [58/100], Step [10/15], Loss: 0.0138\n",
      "Epoch [59/100], Step [10/15], Loss: 0.0085\n",
      "Epoch [60/100], Step [10/15], Loss: 0.0251\n",
      "Epoch [61/100], Step [10/15], Loss: 0.0054\n",
      "Epoch [62/100], Step [10/15], Loss: 0.0077\n",
      "Epoch [63/100], Step [10/15], Loss: 0.0061\n",
      "Epoch [64/100], Step [10/15], Loss: 0.0024\n",
      "Epoch [65/100], Step [10/15], Loss: 0.0021\n",
      "Epoch [66/100], Step [10/15], Loss: 0.0269\n",
      "Epoch [67/100], Step [10/15], Loss: 0.0011\n",
      "Epoch [68/100], Step [10/15], Loss: 0.1271\n",
      "Epoch [69/100], Step [10/15], Loss: 0.0037\n",
      "Epoch [70/100], Step [10/15], Loss: 0.0217\n",
      "Epoch [71/100], Step [10/15], Loss: 0.0044\n",
      "Epoch [72/100], Step [10/15], Loss: 0.0031\n",
      "Epoch [73/100], Step [10/15], Loss: 0.0086\n",
      "Epoch [74/100], Step [10/15], Loss: 0.0120\n",
      "Epoch [75/100], Step [10/15], Loss: 0.0206\n",
      "Epoch [76/100], Step [10/15], Loss: 0.0140\n",
      "Epoch [77/100], Step [10/15], Loss: 0.0034\n",
      "Epoch [78/100], Step [10/15], Loss: 0.0012\n",
      "Epoch [79/100], Step [10/15], Loss: 0.0098\n",
      "Epoch [80/100], Step [10/15], Loss: 0.0015\n",
      "Epoch [81/100], Step [10/15], Loss: 0.0041\n",
      "Epoch [82/100], Step [10/15], Loss: 0.0029\n",
      "Epoch [83/100], Step [10/15], Loss: 0.0021\n",
      "Epoch [84/100], Step [10/15], Loss: 0.0014\n",
      "Epoch [85/100], Step [10/15], Loss: 0.0026\n",
      "Epoch [86/100], Step [10/15], Loss: 0.0013\n",
      "Epoch [87/100], Step [10/15], Loss: 0.0040\n",
      "Epoch [88/100], Step [10/15], Loss: 0.0033\n",
      "Epoch [89/100], Step [10/15], Loss: 0.1007\n",
      "Epoch [90/100], Step [10/15], Loss: 0.0110\n",
      "Epoch [91/100], Step [10/15], Loss: 0.0163\n",
      "Epoch [92/100], Step [10/15], Loss: 0.0569\n",
      "Epoch [93/100], Step [10/15], Loss: 0.0106\n",
      "Epoch [94/100], Step [10/15], Loss: 0.0016\n",
      "Epoch [95/100], Step [10/15], Loss: 0.0380\n",
      "Epoch [96/100], Step [10/15], Loss: 0.0040\n",
      "Epoch [97/100], Step [10/15], Loss: 0.0016\n",
      "Epoch [98/100], Step [10/15], Loss: 0.0026\n",
      "Epoch [99/100], Step [10/15], Loss: 0.0021\n",
      "Epoch [100/100], Step [10/15], Loss: 0.0046\n",
      "Accuracy on test set: 98.25%\n"
     ]
    }
   ],
   "source": [
    "# Define the multilayer perceptron model\n",
    "class MLP(torch.nn.Module):\n",
    "    def __init__(self, input_dim):\n",
    "        super().__init__()\n",
    "        self.fc1 = torch.nn.Linear(input_dim, 64)\n",
    "        self.fc2 = torch.nn.Linear(64, 32)\n",
    "        self.fc3 = torch.nn.Linear(32, 2)\n",
    "        self.relu = torch.nn.ReLU()\n",
    "        self.dropout = torch.nn.Dropout(0.5)\n",
    "\n",
    "    def forward(self, x):\n",
    "        x = self.fc1(x)\n",
    "        x = self.relu(x)\n",
    "        x = self.dropout(x)\n",
    "        x = self.fc2(x)\n",
    "        x = self.relu(x)\n",
    "        x = self.dropout(x)\n",
    "        x = self.fc3(x)\n",
    "        return x\n",
    "\n",
    "# Instantiate the model and define the loss and optimizer\n",
    "model = MLP(input_dim=X.shape[1])\n",
    "criterion = torch.nn.CrossEntropyLoss()\n",
    "optimizer = torch.optim.Adam(model.parameters(), lr=0.001)\n",
    "\n",
    "# Train the model\n",
    "num_epochs = 100\n",
    "for epoch in range(num_epochs):\n",
    "    for i, (X_batch, y_batch) in enumerate(train_dataloader):\n",
    "        optimizer.zero_grad()\n",
    "        y_pred = model(X_batch)\n",
    "        loss = criterion(y_pred, y_batch)\n",
    "        loss.backward()\n",
    "        optimizer.step()\n",
    "\n",
    "        if (i+1) % 10 == 0:\n",
    "            print(f'Epoch [{epoch+1}/{num_epochs}], Step [{i+1}/{len(train_dataloader)}], Loss: {loss.item():.4f}')\n",
    "\n",
    "# Evaluate the model\n",
    "model.eval()\n",
    "with torch.no_grad():\n",
    "    correct = 0\n",
    "    total = 0\n",
    "    for X_batch, y_batch in test_dataloader:\n",
    "        y_pred = model(X_batch)\n",
    "        _, predicted = torch.max(y_pred.data, 1)\n",
    "        total += y_batch.size(0)\n",
    "        correct += (predicted == y_batch).sum().item()\n",
    "    print(f'Accuracy on test set: {(100 * correct / total):.2f}%')\n"
   ]
  },
  {
   "cell_type": "code",
   "execution_count": 8,
   "metadata": {
    "ExecuteTime": {
     "start_time": "2023-04-14T04:43:50.692434Z",
     "end_time": "2023-04-14T04:43:50.703969Z"
    }
   },
   "outputs": [
    {
     "name": "stdout",
     "output_type": "stream",
     "text": [
      "SVM Accuracy: 0.8684%\n"
     ]
    }
   ],
   "source": [
    "# Train SVM model\n",
    "svm_model_4 = SVC(kernel='poly', C=1.0, degree=3, random_state=42)\n",
    "svm_model_4.fit(X_train, y_train)\n",
    "\n",
    "# Evaluate the SVM model\n",
    "y_pred = svm_model_4.predict(X_test)\n",
    "accuracy_4 = accuracy_score(y_test, y_pred)\n",
    "print(f'SVM Accuracy: {accuracy_4:.4f}%')"
   ]
  },
  {
   "cell_type": "code",
   "execution_count": 9,
   "metadata": {
    "ExecuteTime": {
     "start_time": "2023-04-14T04:43:50.705891Z",
     "end_time": "2023-04-14T04:43:50.729805Z"
    }
   },
   "outputs": [
    {
     "name": "stdout",
     "output_type": "stream",
     "text": [
      "SVM Accuracy: 0.9035%\n"
     ]
    }
   ],
   "source": [
    "# Train SVM model with other hyperparameter iterations\n",
    "svm_model_5 = SVC(kernel='rbf', C=0.2, gamma=0.1, class_weight='balanced', random_state=42)\n",
    "svm_model_5.fit(X_train, y_train)\n",
    "\n",
    "# Evaluate the SVM model\n",
    "y_pred = svm_model_5.predict(X_test)\n",
    "accuracy_5 = accuracy_score(y_test, y_pred)\n",
    "print(f'SVM Accuracy: {accuracy_5:.4f}%')"
   ]
  },
  {
   "cell_type": "code",
   "execution_count": 10,
   "metadata": {
    "ExecuteTime": {
     "start_time": "2023-04-14T04:43:50.718814Z",
     "end_time": "2023-04-14T04:43:50.730071Z"
    }
   },
   "outputs": [
    {
     "name": "stdout",
     "output_type": "stream",
     "text": [
      "SVM Accuracy: 0.9561%\n"
     ]
    }
   ],
   "source": [
    "# Train SVM model with other hyperparameter iterations\n",
    "svm_model = SVC(kernel='linear', C=1.0, random_state=42)\n",
    "svm_model.fit(X_train, y_train)\n",
    "\n",
    "# Evaluate the SVM model\n",
    "y_pred = svm_model.predict(X_test)\n",
    "accuracy = accuracy_score(y_test, y_pred)\n",
    "print(f'SVM Accuracy: {accuracy:.4f}%')"
   ]
  },
  {
   "cell_type": "code",
   "execution_count": 11,
   "metadata": {
    "ExecuteTime": {
     "start_time": "2023-04-14T04:43:50.727635Z",
     "end_time": "2023-04-14T04:43:50.741102Z"
    }
   },
   "outputs": [
    {
     "name": "stdout",
     "output_type": "stream",
     "text": [
      "SVM Accuracy: 0.9649%\n"
     ]
    }
   ],
   "source": [
    "# Train SVM model with other hyperparameter iterations\n",
    "svm_model_2 = SVC(kernel='rbf', C=1.0, gamma=0.1, random_state=42)\n",
    "svm_model_2.fit(X_train, y_train)\n",
    "\n",
    "# Evaluate the SVM model\n",
    "y_pred = svm_model_2.predict(X_test)\n",
    "accuracy_2 = accuracy_score(y_test, y_pred)\n",
    "print(f'SVM Accuracy: {accuracy_2:.4f}%')"
   ]
  },
  {
   "cell_type": "code",
   "execution_count": 12,
   "metadata": {
    "ExecuteTime": {
     "start_time": "2023-04-14T04:43:50.738673Z",
     "end_time": "2023-04-14T04:43:50.746273Z"
    }
   },
   "outputs": [
    {
     "name": "stdout",
     "output_type": "stream",
     "text": [
      "SVM Accuracy: 0.9737%\n"
     ]
    }
   ],
   "source": [
    "# Train SVM model with other hyperparameter iterations\n",
    "svm_model_3 = SVC(kernel='linear', C=0.1, class_weight='balanced', random_state=42)\n",
    "svm_model_3.fit(X_train, y_train)\n",
    "\n",
    "# Evaluate the SVM model\n",
    "y_pred = svm_model_3.predict(X_test)\n",
    "accuracy_3 = accuracy_score(y_test, y_pred)\n",
    "print(f'SVM Accuracy: {accuracy_3:.4f}%')"
   ]
  },
  {
   "cell_type": "code",
   "execution_count": 13,
   "metadata": {
    "ExecuteTime": {
     "start_time": "2023-04-14T04:43:50.747942Z",
     "end_time": "2023-04-14T04:43:50.779445Z"
    }
   },
   "outputs": [
    {
     "name": "stdout",
     "output_type": "stream",
     "text": [
      "SVM Accuracy: 0.9825%\n"
     ]
    }
   ],
   "source": [
    "# Train SVM model with other hyperparameter iterations\n",
    "svm_model_1 = SVC(kernel='rbf', C=1.0, random_state=42)\n",
    "svm_model_1.fit(X_train, y_train)\n",
    "\n",
    "# Evaluate the SVM model\n",
    "y_pred = svm_model_1.predict(X_test)\n",
    "accuracy_1 = accuracy_score(y_test, y_pred)\n",
    "print(f'SVM Accuracy: {accuracy_1:.4f}%')\n"
   ]
  },
  {
   "cell_type": "code",
   "execution_count": 14,
   "metadata": {
    "ExecuteTime": {
     "start_time": "2023-04-14T04:43:50.758948Z",
     "end_time": "2023-04-14T04:43:50.779883Z"
    }
   },
   "outputs": [
    {
     "data": {
      "text/plain": "0.035540041279818725"
     },
     "execution_count": 14,
     "metadata": {},
     "output_type": "execute_result"
    }
   ],
   "source": [
    "#Defult gamma Value\n",
    "1 / ( 30 * X_test.var())"
   ]
  },
  {
   "cell_type": "code",
   "execution_count": 15,
   "metadata": {
    "ExecuteTime": {
     "start_time": "2023-04-14T04:43:50.763115Z",
     "end_time": "2023-04-14T04:43:50.780233Z"
    }
   },
   "outputs": [
    {
     "name": "stdout",
     "output_type": "stream",
     "text": [
      "              precision    recall  f1-score   support\n",
      "\n",
      "           0       0.97      1.00      0.99        71\n",
      "           1       1.00      0.95      0.98        43\n",
      "\n",
      "    accuracy                           0.98       114\n",
      "   macro avg       0.99      0.98      0.98       114\n",
      "weighted avg       0.98      0.98      0.98       114\n",
      "\n"
     ]
    }
   ],
   "source": [
    "print(classification_report(y_test, y_pred))"
   ]
  },
  {
   "cell_type": "code",
   "execution_count": 16,
   "metadata": {
    "ExecuteTime": {
     "start_time": "2023-04-14T04:43:50.773006Z",
     "end_time": "2023-04-14T04:43:50.975452Z"
    }
   },
   "outputs": [
    {
     "data": {
      "text/plain": "<Figure size 1000x400 with 2 Axes>",
      "image/png": "[encoded data removed]"
     },
     "metadata": {},
     "output_type": "display_data"
    }
   ],
   "source": [
    "y_true = y_test\n",
    "mlp_y_pred = model(torch.tensor(X_test.astype(\"float32\")))\n",
    "svm_y_pred = svm_model_1.predict(X_test)\n",
    "\n",
    "mlp_y_pred =torch.max(mlp_y_pred,1)[1].detach().numpy()\n",
    "# Compute confusion matrices\n",
    "mlp_cm = confusion_matrix(y_true, mlp_y_pred)\n",
    "svm_cm = confusion_matrix(y_true, svm_y_pred)\n",
    "\n",
    "#Plot confusion matrices\n",
    "plt.figure(figsize=(10, 4))\n",
    "\n",
    "plt.subplot(1, 2, 1)\n",
    "sns.heatmap(mlp_cm, annot=True, cmap='Blues', fmt='g', cbar=False, xticklabels=['Benign', 'Malignant'], yticklabels=['Benign', 'Malignant'])\n",
    "plt.xlabel('Predicted')\n",
    "plt.ylabel('True')\n",
    "plt.title('MLP Confusion Matrix')\n",
    "\n",
    "plt.subplot(1, 2, 2)\n",
    "sns.heatmap(svm_cm, annot=True, cmap='Blues', fmt='g', cbar=False, xticklabels=['Benign', 'Malignant'], yticklabels=['Benign', 'Malignant'])\n",
    "plt.xlabel('Predicted')\n",
    "plt.ylabel('True')\n",
    "plt.title('SVM Confusion Matrix')\n",
    "\n",
    "plt.tight_layout()\n",
    "plt.show()"
   ]
  },
  {
   "cell_type": "code",
   "execution_count": 17,
   "metadata": {
    "ExecuteTime": {
     "start_time": "2023-04-14T04:43:50.976537Z",
     "end_time": "2023-04-14T04:43:50.980355Z"
    }
   },
   "outputs": [
    {
     "data": {
      "text/plain": "array([0, 1, 1, 0, 0, 1, 1, 1, 0, 0, 0, 1, 0, 1, 0, 1, 0, 0, 0, 1, 0, 0,\n       1, 0, 0, 0, 0, 0, 0, 1, 0, 0, 0, 0, 0, 0, 1, 0, 1, 0, 0, 1, 0, 0,\n       0, 0, 0, 0, 0, 0, 1, 1, 0, 0, 0, 0, 0, 1, 1, 0, 0, 1, 1, 0, 0, 0,\n       1, 1, 0, 0, 1, 1, 0, 1, 0, 0, 0, 1, 0, 0, 1, 0, 1, 1, 1, 1, 1, 1,\n       0, 0, 0, 1, 0, 0, 0, 0, 1, 1, 0, 1, 1, 0, 1, 1, 0, 0, 0, 1, 0, 0,\n       1, 0, 0, 1])"
     },
     "execution_count": 17,
     "metadata": {},
     "output_type": "execute_result"
    }
   ],
   "source": [
    "mlp_y_pred"
   ]
  },
  {
   "cell_type": "code",
   "execution_count": 18,
   "metadata": {
    "ExecuteTime": {
     "start_time": "2023-04-14T04:43:50.980831Z",
     "end_time": "2023-04-14T04:43:50.983601Z"
    }
   },
   "outputs": [
    {
     "data": {
      "text/plain": "(114,)"
     },
     "execution_count": 18,
     "metadata": {},
     "output_type": "execute_result"
    }
   ],
   "source": [
    "svm_y_pred.shape"
   ]
  },
  {
   "cell_type": "code",
   "execution_count": 19,
   "metadata": {
    "ExecuteTime": {
     "start_time": "2023-04-14T04:43:50.984717Z",
     "end_time": "2023-04-14T04:43:50.987696Z"
    }
   },
   "outputs": [
    {
     "data": {
      "text/plain": "(114,)"
     },
     "execution_count": 19,
     "metadata": {},
     "output_type": "execute_result"
    }
   ],
   "source": [
    "y_true.shape"
   ]
  },
  {
   "cell_type": "code",
   "execution_count": 20,
   "metadata": {
    "ExecuteTime": {
     "start_time": "2023-04-14T04:43:50.991732Z",
     "end_time": "2023-04-14T04:43:51.145060Z"
    }
   },
   "outputs": [
    {
     "data": {
      "text/plain": "<Figure size 640x480 with 1 Axes>",
      "image/png": "[encoded data removed]"
     },
     "metadata": {},
     "output_type": "display_data"
    }
   ],
   "source": [
    "# Calculate the probabilities for each class\n",
    "mlp_y_proba = model(torch.tensor(X_test.astype(\"float32\"))).detach().numpy()\n",
    "svm_y_proba = svm_model_1.decision_function(X_test)\n",
    "\n",
    "# Compute the ROC curve and AUC score\n",
    "mlp_fpr, mlp_tpr, _ = roc_curve(y_test, mlp_y_proba[:, 1])\n",
    "mlp_auc = auc(mlp_fpr, mlp_tpr)\n",
    "\n",
    "svm_fpr, svm_tpr, _ = roc_curve(y_test, svm_y_proba)\n",
    "svm_auc = auc(svm_fpr, svm_tpr)\n",
    "\n",
    "# Plot the ROC curve\n",
    "plt.figure()\n",
    "plt.plot(mlp_fpr, mlp_tpr, color='blue', lw=2, label='MLP (AUC = %0.2f)' % mlp_auc)\n",
    "plt.plot(svm_fpr, svm_tpr, color='green', lw=2, label='SVM (AUC = %0.2f)' % svm_auc)\n",
    "plt.plot([0, 1], [0, 1], color='red', lw=2, linestyle='--')\n",
    "plt.xlim([0.0, 1.0])\n",
    "plt.ylim([0.0, 1.05])\n",
    "plt.xlabel('False Positive Rate')\n",
    "plt.ylabel('True Positive Rate')\n",
    "plt.title('Receiver Operating Characteristic (ROC) Curve')\n",
    "plt.legend(loc=\"lower right\")\n",
    "plt.show()\n"
   ]
  },
  {
   "cell_type": "code",
   "execution_count": 21,
   "metadata": {
    "ExecuteTime": {
     "start_time": "2023-04-14T04:43:51.146770Z",
     "end_time": "2023-04-14T04:43:51.151874Z"
    }
   },
   "outputs": [
    {
     "name": "stdout",
     "output_type": "stream",
     "text": [
      "MLP F1 score: 0.9767\n",
      "SVM F1 score: 0.9762\n"
     ]
    }
   ],
   "source": [
    "#F1 score for both models\n",
    "mlp_f1 = f1_score(y_true, mlp_y_pred)\n",
    "print(f\"MLP F1 score: {mlp_f1:.4f}\")\n",
    "svm_f1 = f1_score(y_true, svm_y_pred)\n",
    "print(f\"SVM F1 score: {svm_f1:.4f}\")"
   ]
  },
  {
   "cell_type": "code",
   "execution_count": 22,
   "metadata": {
    "ExecuteTime": {
     "start_time": "2023-04-14T04:43:51.153022Z",
     "end_time": "2023-04-14T04:43:51.158549Z"
    }
   },
   "outputs": [
    {
     "name": "stdout",
     "output_type": "stream",
     "text": [
      "MLP Precision: 0.9767441860465116\n",
      "SVM Precision: 1.0\n"
     ]
    }
   ],
   "source": [
    "#precision Score for both models\n",
    "mlp_precision = precision_score(y_true, mlp_y_pred)\n",
    "print(\"MLP Precision:\", mlp_precision)\n",
    "svm_precision = precision_score(y_true, svm_y_pred)\n",
    "print(\"SVM Precision:\", svm_precision)"
   ]
  },
  {
   "cell_type": "code",
   "execution_count": 23,
   "metadata": {
    "ExecuteTime": {
     "start_time": "2023-04-14T04:43:51.160973Z",
     "end_time": "2023-04-14T04:43:51.301359Z"
    }
   },
   "outputs": [
    {
     "data": {
      "text/plain": "<Figure size 500x500 with 1 Axes>",
      "image/png": "[encoded data removed]"
     },
     "metadata": {},
     "output_type": "display_data"
    }
   ],
   "source": [
    "#code reused from my machine learning coursework\n",
    "plot = sns.catplot(data=df, x='diagnosis', kind='count')\n",
    "plot.fig.suptitle('Number of samples per diagnosis')\n",
    "plt.show()\n",
    "\n",
    "#encoding the diagnosis feature since it categorical\n",
    "df['diagnosis'] = df.diagnosis.replace({'M': 0,'B':1})"
   ]
  },
  {
   "cell_type": "code",
   "execution_count": 23,
   "metadata": {
    "ExecuteTime": {
     "start_time": "2023-04-14T04:43:51.301846Z",
     "end_time": "2023-04-14T04:43:51.304456Z"
    }
   },
   "outputs": [],
   "source": []
  }
 ],
 "metadata": {
  "kernelspec": {
   "display_name": "Python 3 (ipykernel)",
   "language": "python",
   "name": "python3"
  },
  "language_info": {
   "codemirror_mode": {
    "name": "ipython",
    "version": 3
   },
   "file_extension": ".py",
   "mimetype": "text/x-python",
   "name": "python",
   "nbconvert_exporter": "python",
   "pygments_lexer": "ipython3",
   "version": "3.10.9"
  }
 },
 "nbformat": 4,
 "nbformat_minor": 1
}
